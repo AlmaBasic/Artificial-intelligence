{
  "nbformat": 4,
  "nbformat_minor": 0,
  "metadata": {
    "colab": {
      "provenance": [],
      "gpuType": "T4",
      "mount_file_id": "1I51E2Sqfc5rZuAwaS4aPyRj9RvD0UjY8",
      "authorship_tag": "ABX9TyPk5unPQadaTeNOaqeqxpMO",
      "include_colab_link": true
    },
    "kernelspec": {
      "name": "python3",
      "display_name": "Python 3"
    },
    "language_info": {
      "name": "python"
    },
    "accelerator": "GPU"
  },
  "cells": [
    {
      "cell_type": "markdown",
      "metadata": {
        "id": "view-in-github",
        "colab_type": "text"
      },
      "source": [
        "<a href=\"https://colab.research.google.com/github/AlmaBasic/Artificial-intelligence/blob/main/Vjezba_7.ipynb\" target=\"_parent\"><img src=\"https://colab.research.google.com/assets/colab-badge.svg\" alt=\"Open In Colab\"/></a>"
      ]
    },
    {
      "cell_type": "code",
      "execution_count": 1,
      "metadata": {
        "id": "YuxisUkCeW0t"
      },
      "outputs": [],
      "source": [
        "#%%capture\n",
        "#!pip install torch torchvision -U\n",
        "#!pip install librosa matplotlib"
      ]
    },
    {
      "cell_type": "code",
      "source": [
        "import torch\n",
        "\n",
        "print(torch.__version__)"
      ],
      "metadata": {
        "colab": {
          "base_uri": "https://localhost:8080/"
        },
        "id": "rvMNA_dUB7P2",
        "outputId": "fc75328c-3997-4085-f07a-af2eabbd9823"
      },
      "execution_count": 18,
      "outputs": [
        {
          "output_type": "stream",
          "name": "stdout",
          "text": [
            "2.6.0+cu124\n"
          ]
        }
      ]
    },
    {
      "cell_type": "markdown",
      "source": [
        "Importovanje biblioteka"
      ],
      "metadata": {
        "id": "t0HA-8yLH8j3"
      }
    },
    {
      "cell_type": "code",
      "source": [
        "import os, wave, librosa, numpy as np, pandas as pd\n",
        "from tqdm import tqdm\n",
        "import soundfile as sf\n",
        "import librosa.display\n",
        "import matplotlib.pyplot as plt"
      ],
      "metadata": {
        "id": "fJUb9BnkCAUR"
      },
      "execution_count": 1,
      "outputs": []
    },
    {
      "cell_type": "markdown",
      "source": [
        "Povezivanje sa Google driveom i pregled direktorija"
      ],
      "metadata": {
        "id": "90b-cds8IHVa"
      }
    },
    {
      "cell_type": "code",
      "source": [
        "from google.colab import drive\n",
        "drive.mount('/content/drive')\n",
        "\n",
        "!ls \"/content/drive/MyDrive/train/audio\""
      ],
      "metadata": {
        "colab": {
          "base_uri": "https://localhost:8080/"
        },
        "id": "qQWKrdHOCEnR",
        "outputId": "0eb599c3-4f3f-4bb8-d568-17eb2332b136"
      },
      "execution_count": 2,
      "outputs": [
        {
          "output_type": "stream",
          "name": "stdout",
          "text": [
            "Drive already mounted at /content/drive; to attempt to forcibly remount, call drive.mount(\"/content/drive\", force_remount=True).\n",
            "_background_noise_  dog    four   left\t  off\t seven\t three\twow\n",
            "bed\t\t    down   go\t  marvin  on\t sheila  tree\tyes\n",
            "bird\t\t    eight  happy  nine\t  one\t six\t two\tzero\n",
            "cat\t\t    five   house  no\t  right  stop\t up\n"
          ]
        }
      ]
    },
    {
      "cell_type": "code",
      "source": [
        "path = \"/content/drive/MyDrive/train/audio\"\n",
        "classes = os.listdir(path)"
      ],
      "metadata": {
        "id": "AotitLyjEsmd"
      },
      "execution_count": 3,
      "outputs": []
    },
    {
      "cell_type": "markdown",
      "source": [
        "Priprema liste fajlova"
      ],
      "metadata": {
        "id": "qPckeVBHIPxA"
      }
    },
    {
      "cell_type": "code",
      "source": [
        "classes.remove('_background_noise_')\n",
        "data, classes_, filename, duration_length = [], [], [], []"
      ],
      "metadata": {
        "id": "2yXIaSEoIW3Z"
      },
      "execution_count": 4,
      "outputs": []
    },
    {
      "cell_type": "markdown",
      "source": [
        "Čitanje fajlova i računanje njihove dužine"
      ],
      "metadata": {
        "id": "Ahni51-MI5OY"
      }
    },
    {
      "cell_type": "code",
      "source": [
        "for class_ in classes:\n",
        "    class_files = os.listdir(os.path.join(path, class_))\n",
        "    for file_name in class_files:\n",
        "        full_filename = os.path.join(path, class_, file_name)\n",
        "        filename.append(full_filename)\n",
        "\n",
        "        y, sr = librosa.load(full_filename, sr=16000)\n",
        "        duration = librosa.get_duration(y=y, sr=sr)\n",
        "        classes_.append(class_)\n",
        "        duration_length.append(duration)"
      ],
      "metadata": {
        "id": "Vf_Rlej7E5nl"
      },
      "execution_count": 5,
      "outputs": []
    },
    {
      "cell_type": "code",
      "source": [
        "filename[:10]"
      ],
      "metadata": {
        "id": "H6isNLgOG3gP",
        "colab": {
          "base_uri": "https://localhost:8080/"
        },
        "outputId": "68852463-80cb-446a-8c49-9ea1d5afd963"
      },
      "execution_count": 6,
      "outputs": [
        {
          "output_type": "execute_result",
          "data": {
            "text/plain": [
              "['/content/drive/MyDrive/train/audio/bed/1365dd89_nohash_0.wav',\n",
              " '/content/drive/MyDrive/train/audio/bed/97e0c576_nohash_2.wav',\n",
              " '/content/drive/MyDrive/train/audio/bed/ac652c60_nohash_0.wav',\n",
              " '/content/drive/MyDrive/train/audio/bed/23ad12d8_nohash_0.wav',\n",
              " '/content/drive/MyDrive/train/audio/bed/161fcca8_nohash_1.wav',\n",
              " '/content/drive/MyDrive/train/audio/bed/a19452d5_nohash_1.wav',\n",
              " '/content/drive/MyDrive/train/audio/bed/b72e58c9_nohash_0.wav',\n",
              " '/content/drive/MyDrive/train/audio/bed/e3411931_nohash_0.wav',\n",
              " '/content/drive/MyDrive/train/audio/bed/1528225c_nohash_3.wav',\n",
              " '/content/drive/MyDrive/train/audio/bed/1706c35f_nohash_3.wav']"
            ]
          },
          "metadata": {},
          "execution_count": 6
        }
      ]
    },
    {
      "cell_type": "markdown",
      "source": [
        "Kreiramo dataframe"
      ],
      "metadata": {
        "id": "Ie4zne4_JJFz"
      }
    },
    {
      "cell_type": "code",
      "source": [
        "df = pd.DataFrame({'Filename': filename, 'Class': classes_, 'Duration': duration_length})\n",
        "df.to_csv('/content/drive/MyDrive/train/data.csv')"
      ],
      "metadata": {
        "id": "eknWeNIaG0F-"
      },
      "execution_count": 7,
      "outputs": []
    },
    {
      "cell_type": "code",
      "source": [
        "df.head()"
      ],
      "metadata": {
        "id": "eLLnCt1vHAet",
        "colab": {
          "base_uri": "https://localhost:8080/",
          "height": 206
        },
        "outputId": "5b4eadbd-c61e-49ad-d3a6-cc8112fd97bd"
      },
      "execution_count": 26,
      "outputs": [
        {
          "output_type": "execute_result",
          "data": {
            "text/plain": [
              "   Unnamed: 0                                           Filename Class  \\\n",
              "0           0  /content/drive/MyDrive/train/audio/bed/1365dd8...   bed   \n",
              "1           1  /content/drive/MyDrive/train/audio/bed/97e0c57...   bed   \n",
              "2           2  /content/drive/MyDrive/train/audio/bed/ac652c6...   bed   \n",
              "3           3  /content/drive/MyDrive/train/audio/bed/23ad12d...   bed   \n",
              "4           4  /content/drive/MyDrive/train/audio/bed/161fcca...   bed   \n",
              "\n",
              "   Duration  LabelID  \n",
              "0       1.0        0  \n",
              "1       1.0        0  \n",
              "2       1.0        0  \n",
              "3       1.0        0  \n",
              "4       1.0        0  "
            ],
            "text/html": [
              "\n",
              "  <div id=\"df-2343c7bd-5a38-453c-bd31-5b6adfc28fe0\" class=\"colab-df-container\">\n",
              "    <div>\n",
              "<style scoped>\n",
              "    .dataframe tbody tr th:only-of-type {\n",
              "        vertical-align: middle;\n",
              "    }\n",
              "\n",
              "    .dataframe tbody tr th {\n",
              "        vertical-align: top;\n",
              "    }\n",
              "\n",
              "    .dataframe thead th {\n",
              "        text-align: right;\n",
              "    }\n",
              "</style>\n",
              "<table border=\"1\" class=\"dataframe\">\n",
              "  <thead>\n",
              "    <tr style=\"text-align: right;\">\n",
              "      <th></th>\n",
              "      <th>Unnamed: 0</th>\n",
              "      <th>Filename</th>\n",
              "      <th>Class</th>\n",
              "      <th>Duration</th>\n",
              "      <th>LabelID</th>\n",
              "    </tr>\n",
              "  </thead>\n",
              "  <tbody>\n",
              "    <tr>\n",
              "      <th>0</th>\n",
              "      <td>0</td>\n",
              "      <td>/content/drive/MyDrive/train/audio/bed/1365dd8...</td>\n",
              "      <td>bed</td>\n",
              "      <td>1.0</td>\n",
              "      <td>0</td>\n",
              "    </tr>\n",
              "    <tr>\n",
              "      <th>1</th>\n",
              "      <td>1</td>\n",
              "      <td>/content/drive/MyDrive/train/audio/bed/97e0c57...</td>\n",
              "      <td>bed</td>\n",
              "      <td>1.0</td>\n",
              "      <td>0</td>\n",
              "    </tr>\n",
              "    <tr>\n",
              "      <th>2</th>\n",
              "      <td>2</td>\n",
              "      <td>/content/drive/MyDrive/train/audio/bed/ac652c6...</td>\n",
              "      <td>bed</td>\n",
              "      <td>1.0</td>\n",
              "      <td>0</td>\n",
              "    </tr>\n",
              "    <tr>\n",
              "      <th>3</th>\n",
              "      <td>3</td>\n",
              "      <td>/content/drive/MyDrive/train/audio/bed/23ad12d...</td>\n",
              "      <td>bed</td>\n",
              "      <td>1.0</td>\n",
              "      <td>0</td>\n",
              "    </tr>\n",
              "    <tr>\n",
              "      <th>4</th>\n",
              "      <td>4</td>\n",
              "      <td>/content/drive/MyDrive/train/audio/bed/161fcca...</td>\n",
              "      <td>bed</td>\n",
              "      <td>1.0</td>\n",
              "      <td>0</td>\n",
              "    </tr>\n",
              "  </tbody>\n",
              "</table>\n",
              "</div>\n",
              "    <div class=\"colab-df-buttons\">\n",
              "\n",
              "  <div class=\"colab-df-container\">\n",
              "    <button class=\"colab-df-convert\" onclick=\"convertToInteractive('df-2343c7bd-5a38-453c-bd31-5b6adfc28fe0')\"\n",
              "            title=\"Convert this dataframe to an interactive table.\"\n",
              "            style=\"display:none;\">\n",
              "\n",
              "  <svg xmlns=\"http://www.w3.org/2000/svg\" height=\"24px\" viewBox=\"0 -960 960 960\">\n",
              "    <path d=\"M120-120v-720h720v720H120Zm60-500h600v-160H180v160Zm220 220h160v-160H400v160Zm0 220h160v-160H400v160ZM180-400h160v-160H180v160Zm440 0h160v-160H620v160ZM180-180h160v-160H180v160Zm440 0h160v-160H620v160Z\"/>\n",
              "  </svg>\n",
              "    </button>\n",
              "\n",
              "  <style>\n",
              "    .colab-df-container {\n",
              "      display:flex;\n",
              "      gap: 12px;\n",
              "    }\n",
              "\n",
              "    .colab-df-convert {\n",
              "      background-color: #E8F0FE;\n",
              "      border: none;\n",
              "      border-radius: 50%;\n",
              "      cursor: pointer;\n",
              "      display: none;\n",
              "      fill: #1967D2;\n",
              "      height: 32px;\n",
              "      padding: 0 0 0 0;\n",
              "      width: 32px;\n",
              "    }\n",
              "\n",
              "    .colab-df-convert:hover {\n",
              "      background-color: #E2EBFA;\n",
              "      box-shadow: 0px 1px 2px rgba(60, 64, 67, 0.3), 0px 1px 3px 1px rgba(60, 64, 67, 0.15);\n",
              "      fill: #174EA6;\n",
              "    }\n",
              "\n",
              "    .colab-df-buttons div {\n",
              "      margin-bottom: 4px;\n",
              "    }\n",
              "\n",
              "    [theme=dark] .colab-df-convert {\n",
              "      background-color: #3B4455;\n",
              "      fill: #D2E3FC;\n",
              "    }\n",
              "\n",
              "    [theme=dark] .colab-df-convert:hover {\n",
              "      background-color: #434B5C;\n",
              "      box-shadow: 0px 1px 3px 1px rgba(0, 0, 0, 0.15);\n",
              "      filter: drop-shadow(0px 1px 2px rgba(0, 0, 0, 0.3));\n",
              "      fill: #FFFFFF;\n",
              "    }\n",
              "  </style>\n",
              "\n",
              "    <script>\n",
              "      const buttonEl =\n",
              "        document.querySelector('#df-2343c7bd-5a38-453c-bd31-5b6adfc28fe0 button.colab-df-convert');\n",
              "      buttonEl.style.display =\n",
              "        google.colab.kernel.accessAllowed ? 'block' : 'none';\n",
              "\n",
              "      async function convertToInteractive(key) {\n",
              "        const element = document.querySelector('#df-2343c7bd-5a38-453c-bd31-5b6adfc28fe0');\n",
              "        const dataTable =\n",
              "          await google.colab.kernel.invokeFunction('convertToInteractive',\n",
              "                                                    [key], {});\n",
              "        if (!dataTable) return;\n",
              "\n",
              "        const docLinkHtml = 'Like what you see? Visit the ' +\n",
              "          '<a target=\"_blank\" href=https://colab.research.google.com/notebooks/data_table.ipynb>data table notebook</a>'\n",
              "          + ' to learn more about interactive tables.';\n",
              "        element.innerHTML = '';\n",
              "        dataTable['output_type'] = 'display_data';\n",
              "        await google.colab.output.renderOutput(dataTable, element);\n",
              "        const docLink = document.createElement('div');\n",
              "        docLink.innerHTML = docLinkHtml;\n",
              "        element.appendChild(docLink);\n",
              "      }\n",
              "    </script>\n",
              "  </div>\n",
              "\n",
              "\n",
              "    <div id=\"df-d05274ff-4180-4875-952b-ba7d60a727cb\">\n",
              "      <button class=\"colab-df-quickchart\" onclick=\"quickchart('df-d05274ff-4180-4875-952b-ba7d60a727cb')\"\n",
              "                title=\"Suggest charts\"\n",
              "                style=\"display:none;\">\n",
              "\n",
              "<svg xmlns=\"http://www.w3.org/2000/svg\" height=\"24px\"viewBox=\"0 0 24 24\"\n",
              "     width=\"24px\">\n",
              "    <g>\n",
              "        <path d=\"M19 3H5c-1.1 0-2 .9-2 2v14c0 1.1.9 2 2 2h14c1.1 0 2-.9 2-2V5c0-1.1-.9-2-2-2zM9 17H7v-7h2v7zm4 0h-2V7h2v10zm4 0h-2v-4h2v4z\"/>\n",
              "    </g>\n",
              "</svg>\n",
              "      </button>\n",
              "\n",
              "<style>\n",
              "  .colab-df-quickchart {\n",
              "      --bg-color: #E8F0FE;\n",
              "      --fill-color: #1967D2;\n",
              "      --hover-bg-color: #E2EBFA;\n",
              "      --hover-fill-color: #174EA6;\n",
              "      --disabled-fill-color: #AAA;\n",
              "      --disabled-bg-color: #DDD;\n",
              "  }\n",
              "\n",
              "  [theme=dark] .colab-df-quickchart {\n",
              "      --bg-color: #3B4455;\n",
              "      --fill-color: #D2E3FC;\n",
              "      --hover-bg-color: #434B5C;\n",
              "      --hover-fill-color: #FFFFFF;\n",
              "      --disabled-bg-color: #3B4455;\n",
              "      --disabled-fill-color: #666;\n",
              "  }\n",
              "\n",
              "  .colab-df-quickchart {\n",
              "    background-color: var(--bg-color);\n",
              "    border: none;\n",
              "    border-radius: 50%;\n",
              "    cursor: pointer;\n",
              "    display: none;\n",
              "    fill: var(--fill-color);\n",
              "    height: 32px;\n",
              "    padding: 0;\n",
              "    width: 32px;\n",
              "  }\n",
              "\n",
              "  .colab-df-quickchart:hover {\n",
              "    background-color: var(--hover-bg-color);\n",
              "    box-shadow: 0 1px 2px rgba(60, 64, 67, 0.3), 0 1px 3px 1px rgba(60, 64, 67, 0.15);\n",
              "    fill: var(--button-hover-fill-color);\n",
              "  }\n",
              "\n",
              "  .colab-df-quickchart-complete:disabled,\n",
              "  .colab-df-quickchart-complete:disabled:hover {\n",
              "    background-color: var(--disabled-bg-color);\n",
              "    fill: var(--disabled-fill-color);\n",
              "    box-shadow: none;\n",
              "  }\n",
              "\n",
              "  .colab-df-spinner {\n",
              "    border: 2px solid var(--fill-color);\n",
              "    border-color: transparent;\n",
              "    border-bottom-color: var(--fill-color);\n",
              "    animation:\n",
              "      spin 1s steps(1) infinite;\n",
              "  }\n",
              "\n",
              "  @keyframes spin {\n",
              "    0% {\n",
              "      border-color: transparent;\n",
              "      border-bottom-color: var(--fill-color);\n",
              "      border-left-color: var(--fill-color);\n",
              "    }\n",
              "    20% {\n",
              "      border-color: transparent;\n",
              "      border-left-color: var(--fill-color);\n",
              "      border-top-color: var(--fill-color);\n",
              "    }\n",
              "    30% {\n",
              "      border-color: transparent;\n",
              "      border-left-color: var(--fill-color);\n",
              "      border-top-color: var(--fill-color);\n",
              "      border-right-color: var(--fill-color);\n",
              "    }\n",
              "    40% {\n",
              "      border-color: transparent;\n",
              "      border-right-color: var(--fill-color);\n",
              "      border-top-color: var(--fill-color);\n",
              "    }\n",
              "    60% {\n",
              "      border-color: transparent;\n",
              "      border-right-color: var(--fill-color);\n",
              "    }\n",
              "    80% {\n",
              "      border-color: transparent;\n",
              "      border-right-color: var(--fill-color);\n",
              "      border-bottom-color: var(--fill-color);\n",
              "    }\n",
              "    90% {\n",
              "      border-color: transparent;\n",
              "      border-bottom-color: var(--fill-color);\n",
              "    }\n",
              "  }\n",
              "</style>\n",
              "\n",
              "      <script>\n",
              "        async function quickchart(key) {\n",
              "          const quickchartButtonEl =\n",
              "            document.querySelector('#' + key + ' button');\n",
              "          quickchartButtonEl.disabled = true;  // To prevent multiple clicks.\n",
              "          quickchartButtonEl.classList.add('colab-df-spinner');\n",
              "          try {\n",
              "            const charts = await google.colab.kernel.invokeFunction(\n",
              "                'suggestCharts', [key], {});\n",
              "          } catch (error) {\n",
              "            console.error('Error during call to suggestCharts:', error);\n",
              "          }\n",
              "          quickchartButtonEl.classList.remove('colab-df-spinner');\n",
              "          quickchartButtonEl.classList.add('colab-df-quickchart-complete');\n",
              "        }\n",
              "        (() => {\n",
              "          let quickchartButtonEl =\n",
              "            document.querySelector('#df-d05274ff-4180-4875-952b-ba7d60a727cb button');\n",
              "          quickchartButtonEl.style.display =\n",
              "            google.colab.kernel.accessAllowed ? 'block' : 'none';\n",
              "        })();\n",
              "      </script>\n",
              "    </div>\n",
              "    </div>\n",
              "  </div>\n"
            ],
            "application/vnd.google.colaboratory.intrinsic+json": {
              "type": "dataframe",
              "variable_name": "df",
              "summary": "{\n  \"name\": \"df\",\n  \"rows\": 63258,\n  \"fields\": [\n    {\n      \"column\": \"Unnamed: 0\",\n      \"properties\": {\n        \"dtype\": \"number\",\n        \"std\": 18261,\n        \"min\": 0,\n        \"max\": 63257,\n        \"num_unique_values\": 63258,\n        \"samples\": [\n          29562,\n          21486,\n          43971\n        ],\n        \"semantic_type\": \"\",\n        \"description\": \"\"\n      }\n    },\n    {\n      \"column\": \"Filename\",\n      \"properties\": {\n        \"dtype\": \"string\",\n        \"num_unique_values\": 63258,\n        \"samples\": [\n          \"/content/drive/MyDrive/train/audio/no/919d3c0e_nohash_1.wav\",\n          \"/content/drive/MyDrive/train/audio/left/64da5281_nohash_1.wav\",\n          \"/content/drive/MyDrive/train/audio/six/94de6a6a_nohash_0.wav\"\n        ],\n        \"semantic_type\": \"\",\n        \"description\": \"\"\n      }\n    },\n    {\n      \"column\": \"Class\",\n      \"properties\": {\n        \"dtype\": \"category\",\n        \"num_unique_values\": 30,\n        \"samples\": [\n          \"yes\",\n          \"off\",\n          \"three\"\n        ],\n        \"semantic_type\": \"\",\n        \"description\": \"\"\n      }\n    },\n    {\n      \"column\": \"Duration\",\n      \"properties\": {\n        \"dtype\": \"number\",\n        \"std\": 0.05960069195249573,\n        \"min\": 0.3715625,\n        \"max\": 1.0,\n        \"num_unique_values\": 76,\n        \"samples\": [\n          0.981375,\n          0.5573125,\n          0.7895\n        ],\n        \"semantic_type\": \"\",\n        \"description\": \"\"\n      }\n    },\n    {\n      \"column\": \"LabelID\",\n      \"properties\": {\n        \"dtype\": \"number\",\n        \"std\": 8,\n        \"min\": 0,\n        \"max\": 29,\n        \"num_unique_values\": 30,\n        \"samples\": [\n          28,\n          15,\n          23\n        ],\n        \"semantic_type\": \"\",\n        \"description\": \"\"\n      }\n    }\n  ]\n}"
            }
          },
          "metadata": {},
          "execution_count": 26
        }
      ]
    },
    {
      "cell_type": "code",
      "source": [
        "df.shape"
      ],
      "metadata": {
        "id": "O6DuTLC6HFsP",
        "colab": {
          "base_uri": "https://localhost:8080/"
        },
        "outputId": "9ce6d619-1750-4693-e9df-27e2295d718d"
      },
      "execution_count": 9,
      "outputs": [
        {
          "output_type": "execute_result",
          "data": {
            "text/plain": [
              "(63258, 3)"
            ]
          },
          "metadata": {},
          "execution_count": 9
        }
      ]
    },
    {
      "cell_type": "code",
      "source": [
        "df['Class'].value_counts()"
      ],
      "metadata": {
        "id": "g4zGVTfwupL6",
        "colab": {
          "base_uri": "https://localhost:8080/",
          "height": 1000
        },
        "outputId": "8527ea76-de02-44f8-b88b-0dacb9f5154e"
      },
      "execution_count": 10,
      "outputs": [
        {
          "output_type": "execute_result",
          "data": {
            "text/plain": [
              "Class\n",
              "stop      2380\n",
              "seven     2377\n",
              "yes       2377\n",
              "zero      2376\n",
              "no        2375\n",
              "up        2375\n",
              "off       2374\n",
              "two       2373\n",
              "go        2372\n",
              "four      2372\n",
              "one       2370\n",
              "six       2369\n",
              "right     2367\n",
              "on        2367\n",
              "nine      2364\n",
              "down      2359\n",
              "five      2357\n",
              "three     2356\n",
              "left      2353\n",
              "eight     2352\n",
              "house     1750\n",
              "marvin    1746\n",
              "wow       1745\n",
              "happy     1742\n",
              "sheila    1734\n",
              "cat       1733\n",
              "tree      1733\n",
              "bed       1713\n",
              "bird      1067\n",
              "dog        930\n",
              "Name: count, dtype: int64"
            ],
            "text/html": [
              "<div>\n",
              "<style scoped>\n",
              "    .dataframe tbody tr th:only-of-type {\n",
              "        vertical-align: middle;\n",
              "    }\n",
              "\n",
              "    .dataframe tbody tr th {\n",
              "        vertical-align: top;\n",
              "    }\n",
              "\n",
              "    .dataframe thead th {\n",
              "        text-align: right;\n",
              "    }\n",
              "</style>\n",
              "<table border=\"1\" class=\"dataframe\">\n",
              "  <thead>\n",
              "    <tr style=\"text-align: right;\">\n",
              "      <th></th>\n",
              "      <th>count</th>\n",
              "    </tr>\n",
              "    <tr>\n",
              "      <th>Class</th>\n",
              "      <th></th>\n",
              "    </tr>\n",
              "  </thead>\n",
              "  <tbody>\n",
              "    <tr>\n",
              "      <th>stop</th>\n",
              "      <td>2380</td>\n",
              "    </tr>\n",
              "    <tr>\n",
              "      <th>seven</th>\n",
              "      <td>2377</td>\n",
              "    </tr>\n",
              "    <tr>\n",
              "      <th>yes</th>\n",
              "      <td>2377</td>\n",
              "    </tr>\n",
              "    <tr>\n",
              "      <th>zero</th>\n",
              "      <td>2376</td>\n",
              "    </tr>\n",
              "    <tr>\n",
              "      <th>no</th>\n",
              "      <td>2375</td>\n",
              "    </tr>\n",
              "    <tr>\n",
              "      <th>up</th>\n",
              "      <td>2375</td>\n",
              "    </tr>\n",
              "    <tr>\n",
              "      <th>off</th>\n",
              "      <td>2374</td>\n",
              "    </tr>\n",
              "    <tr>\n",
              "      <th>two</th>\n",
              "      <td>2373</td>\n",
              "    </tr>\n",
              "    <tr>\n",
              "      <th>go</th>\n",
              "      <td>2372</td>\n",
              "    </tr>\n",
              "    <tr>\n",
              "      <th>four</th>\n",
              "      <td>2372</td>\n",
              "    </tr>\n",
              "    <tr>\n",
              "      <th>one</th>\n",
              "      <td>2370</td>\n",
              "    </tr>\n",
              "    <tr>\n",
              "      <th>six</th>\n",
              "      <td>2369</td>\n",
              "    </tr>\n",
              "    <tr>\n",
              "      <th>right</th>\n",
              "      <td>2367</td>\n",
              "    </tr>\n",
              "    <tr>\n",
              "      <th>on</th>\n",
              "      <td>2367</td>\n",
              "    </tr>\n",
              "    <tr>\n",
              "      <th>nine</th>\n",
              "      <td>2364</td>\n",
              "    </tr>\n",
              "    <tr>\n",
              "      <th>down</th>\n",
              "      <td>2359</td>\n",
              "    </tr>\n",
              "    <tr>\n",
              "      <th>five</th>\n",
              "      <td>2357</td>\n",
              "    </tr>\n",
              "    <tr>\n",
              "      <th>three</th>\n",
              "      <td>2356</td>\n",
              "    </tr>\n",
              "    <tr>\n",
              "      <th>left</th>\n",
              "      <td>2353</td>\n",
              "    </tr>\n",
              "    <tr>\n",
              "      <th>eight</th>\n",
              "      <td>2352</td>\n",
              "    </tr>\n",
              "    <tr>\n",
              "      <th>house</th>\n",
              "      <td>1750</td>\n",
              "    </tr>\n",
              "    <tr>\n",
              "      <th>marvin</th>\n",
              "      <td>1746</td>\n",
              "    </tr>\n",
              "    <tr>\n",
              "      <th>wow</th>\n",
              "      <td>1745</td>\n",
              "    </tr>\n",
              "    <tr>\n",
              "      <th>happy</th>\n",
              "      <td>1742</td>\n",
              "    </tr>\n",
              "    <tr>\n",
              "      <th>sheila</th>\n",
              "      <td>1734</td>\n",
              "    </tr>\n",
              "    <tr>\n",
              "      <th>cat</th>\n",
              "      <td>1733</td>\n",
              "    </tr>\n",
              "    <tr>\n",
              "      <th>tree</th>\n",
              "      <td>1733</td>\n",
              "    </tr>\n",
              "    <tr>\n",
              "      <th>bed</th>\n",
              "      <td>1713</td>\n",
              "    </tr>\n",
              "    <tr>\n",
              "      <th>bird</th>\n",
              "      <td>1067</td>\n",
              "    </tr>\n",
              "    <tr>\n",
              "      <th>dog</th>\n",
              "      <td>930</td>\n",
              "    </tr>\n",
              "  </tbody>\n",
              "</table>\n",
              "</div><br><label><b>dtype:</b> int64</label>"
            ]
          },
          "metadata": {},
          "execution_count": 10
        }
      ]
    },
    {
      "cell_type": "markdown",
      "source": [
        "Vizualizacija spektrograma"
      ],
      "metadata": {
        "id": "ElZROiAwJatZ"
      }
    },
    {
      "cell_type": "code",
      "source": [
        "df = pd.read_csv('/content/drive/MyDrive/train/data.csv')  # ako već nije učitano\n",
        "audio_path = df['Filename'].iloc[0]  # uzimaš prvi fajl"
      ],
      "metadata": {
        "id": "I8Slr1G8VLmG"
      },
      "execution_count": 27,
      "outputs": []
    },
    {
      "cell_type": "code",
      "source": [
        "y, sr = librosa.load(audio_path)\n",
        "D = librosa.stft(y)\n",
        "S_db = librosa.amplitude_to_db(np.abs(D), ref=np.max)"
      ],
      "metadata": {
        "id": "WghW_q8SMlGP"
      },
      "execution_count": 28,
      "outputs": []
    },
    {
      "cell_type": "markdown",
      "source": [
        "Kreiranje mel-spektrograma"
      ],
      "metadata": {
        "id": "ztY9RVZMJmLl"
      }
    },
    {
      "cell_type": "code",
      "source": [
        "S = librosa.feature.melspectrogram(y=y, sr=sr, n_mels=128)\n",
        "S_dB = librosa.power_to_db(S, ref=np.max)"
      ],
      "metadata": {
        "id": "vKXnluMoMDX6"
      },
      "execution_count": 29,
      "outputs": []
    },
    {
      "cell_type": "markdown",
      "source": [
        "Pravljenje dataseta"
      ],
      "metadata": {
        "id": "h-DrcDoSKT7H"
      }
    },
    {
      "cell_type": "code",
      "source": [
        "from torch.utils.data import Dataset\n",
        "import librosa\n",
        "import torchaudio\n",
        "\n",
        "class AudioDataset(Dataset):\n",
        "    def __init__(self, csv_file, sr=16000, duration=1):\n",
        "        self.data = pd.read_csv(csv_file)\n",
        "        self.sr = sr                    # Sample rate (npr. 16kHz)\n",
        "        self.duration = duration        # Dužina trajanja u sekundama\n",
        "        self.input_length = sr * duration  # Ukupan broj uzoraka\n",
        "\n",
        "    def __len__(self):\n",
        "        return len(self.data)\n",
        "\n",
        "    def __getitem__(self, idx):\n",
        "      path = self.data.iloc[idx]['Filename']\n",
        "      label = self.data.iloc[idx]['LabelID']\n",
        "\n",
        "      # Učitavanje audio fajla\n",
        "      y, sr = librosa.load(path, sr=self.sr)\n",
        "\n",
        "      # Padding ili skraćivanje da svi audiji budu iste dužine\n",
        "      if len(y) < self.input_length:\n",
        "          y = np.pad(y, (0, self.input_length - len(y)))\n",
        "      else:\n",
        "          y = y[:self.input_length]\n",
        "\n",
        "      # Pretvori u torch.Tensor\n",
        "      y = torch.tensor(y).unsqueeze(0)  # (1, num_samples)\n",
        "\n",
        "      # Mel-spektrogram\n",
        "      mel_transform = torchaudio.transforms.MelSpectrogram(\n",
        "          sample_rate=self.sr,\n",
        "          n_fft=1024,\n",
        "          hop_length=512,\n",
        "          n_mels=64\n",
        "      )\n",
        "      mel = mel_transform(y)  # (1, n_mels, time)\n",
        "\n",
        "      # Pretvori u dB skalu (opcionalno)\n",
        "      db_transform = torchaudio.transforms.AmplitudeToDB()\n",
        "      mel_db = db_transform(mel)\n",
        "\n",
        "      # Normalizacija\n",
        "      mel_db = (mel_db - mel_db.mean()) / (mel_db.std() + 1e-9)\n",
        "\n",
        "      return mel_db, int(label)\n"
      ],
      "metadata": {
        "id": "DIEnQAiitIif"
      },
      "execution_count": 30,
      "outputs": []
    },
    {
      "cell_type": "markdown",
      "source": [
        "Kreiranje CNN modela"
      ],
      "metadata": {
        "id": "Psu9r81VfKrv"
      }
    },
    {
      "cell_type": "code",
      "source": [
        "import torch.nn as nn\n",
        "import torch.nn.functional as F\n",
        "import torch\n",
        "\n",
        "class AudioCNN(nn.Module):\n",
        "    def __init__(self, num_classes):\n",
        "        super(AudioCNN, self).__init__()\n",
        "\n",
        "        self.conv1 = nn.Conv2d(1, 16, kernel_size=3, padding=1)\n",
        "        self.conv2 = nn.Conv2d(16, 32, kernel_size=3, padding=1)\n",
        "        self.conv3 = nn.Conv2d(32, 64, kernel_size=3, padding=1)\n",
        "\n",
        "        self.pool = nn.MaxPool2d(2, 2)\n",
        "        self.dropout = nn.Dropout(0.3)\n",
        "\n",
        "        # Projekcije za skip konekcije (ako je broj kanala različit)\n",
        "        self.skip1 = nn.Conv2d(16, 32, kernel_size=1)  # za spajanje conv1 -> conv2\n",
        "        self.skip2 = nn.Conv2d(32, 64, kernel_size=1)  # za spajanje conv2 -> conv3\n",
        "\n",
        "        # Dummy input za izračunavanje veličine\n",
        "        dummy_input = torch.zeros(1, 1, 64, 32)\n",
        "        dummy_out = self._forward_features(dummy_input)\n",
        "        self.flattened_size = dummy_out.view(1, -1).size(1)\n",
        "\n",
        "        self.fc1 = nn.Linear(self.flattened_size, 128)\n",
        "        self.fc2 = nn.Linear(128, num_classes)\n",
        "\n",
        "    def _forward_features(self, x):\n",
        "        x1 = self.pool(F.relu(self.conv1(x)))  # [B, 16, H, W]\n",
        "\n",
        "        x2 = self.pool(F.relu(self.conv2(x1)))  # [B, 32, H/2, W/2]\n",
        "        skip1 = self.pool(self.skip1(x1))       # prilagodi dimenzije za sabiranje\n",
        "        x2 = x2 + skip1                         # SKIP CONNECTION\n",
        "\n",
        "        x3 = self.pool(F.relu(self.conv3(x2)))  # [B, 64, H/4, W/4]\n",
        "        skip2 = self.pool(self.skip2(x2))       # prilagodi dimenzije za sabiranje\n",
        "        x3 = x3 + skip2                         # SKIP CONNECTION\n",
        "\n",
        "        return x3\n",
        "\n",
        "    def forward(self, x):\n",
        "        x = self._forward_features(x)\n",
        "        x = x.view(x.size(0), -1)\n",
        "        x = self.dropout(F.relu(self.fc1(x)))\n",
        "        x = self.fc2(x)\n",
        "        return F.log_softmax(x, dim=1)\n"
      ],
      "metadata": {
        "id": "jflGhw4ofE0P"
      },
      "execution_count": 31,
      "outputs": []
    },
    {
      "cell_type": "code",
      "source": [
        "# Učitaj CSV koji sadrži klasne nazive\n",
        "df = pd.read_csv('/content/drive/MyDrive/train/data.csv')\n",
        "\n",
        "# Kreiraj label2id mapu (npr. 'yes' -> 0, 'no' -> 1, itd.)\n",
        "labels = sorted(df['Class'].unique())\n",
        "label2id = {label: idx for idx, label in enumerate(labels)}\n",
        "\n",
        "# Dodaj novu kolonu s numeričkim ID-jem klase\n",
        "df['LabelID'] = df['Class'].map(label2id)\n",
        "\n",
        "# Spasi kao novi CSV\n",
        "df[['Filename', 'LabelID']].to_csv('/content/drive/MyDrive/train/data_labels.csv', index=False)\n",
        "\n",
        "print(\"Spaseno u data_labels.csv\")\n",
        "print(\"Broj klasa:\", len(labels))\n"
      ],
      "metadata": {
        "colab": {
          "base_uri": "https://localhost:8080/"
        },
        "id": "OChyGhZeVqLb",
        "outputId": "8aca7203-ca4a-45ee-a6e7-a77741bf3c3a"
      },
      "execution_count": 32,
      "outputs": [
        {
          "output_type": "stream",
          "name": "stdout",
          "text": [
            "Spaseno u data_labels.csv\n",
            "Broj klasa: 30\n"
          ]
        }
      ]
    },
    {
      "cell_type": "markdown",
      "source": [
        "Treniranje modela"
      ],
      "metadata": {
        "id": "r2QPtZ3aKlrh"
      }
    },
    {
      "cell_type": "code",
      "source": [
        "from torch.utils.data import DataLoader\n",
        "import torch.optim as optim\n",
        "\n",
        "\n",
        "# Parametri\n",
        "csv_path = '/content/drive/MyDrive/train/data_labels.csv'  # koristi fajl s numeričkim LabelID\n",
        "batch_size = 32\n",
        "epochs = 10\n",
        "sr = 16000\n",
        "duration = 1\n",
        "\n",
        "# Dataset i DataLoader\n",
        "dataset = AudioDataset(csv_path, sr=sr, duration=duration)\n",
        "loader = DataLoader(dataset, batch_size=batch_size, shuffle=True)\n",
        "\n",
        "# Broj klasa\n",
        "num_classes = len(pd.read_csv(csv_path)['LabelID'].unique())\n",
        "\n",
        "# Model, optimizator, gubitak\n",
        "device = torch.device('cuda' if torch.cuda.is_available() else 'cpu')\n",
        "model = AudioCNN(num_classes).to(device)\n",
        "\n",
        "optimizer = optim.Adam(model.parameters(), lr=0.001)\n",
        "criterion = nn.NLLLoss()\n",
        "\n",
        "# Trening petlja\n",
        "for epoch in range(epochs):\n",
        "    model.train()\n",
        "    running_loss = 0.0\n",
        "    total = 0\n",
        "\n",
        "    for inputs, labels in loader:\n",
        "        inputs, labels = inputs.to(device), labels.to(device)\n",
        "\n",
        "        optimizer.zero_grad()\n",
        "        outputs = model(inputs)\n",
        "        loss = criterion(outputs, labels)\n",
        "        loss.backward()\n",
        "        optimizer.step()\n",
        "\n",
        "        running_loss += loss.item() * inputs.size(0)\n",
        "        total += inputs.size(0)\n",
        "\n",
        "    avg_loss = running_loss / total\n",
        "    print(f\"Epoch {epoch+1}/{epochs}, Loss: {avg_loss:.4f}\")\n"
      ],
      "metadata": {
        "colab": {
          "base_uri": "https://localhost:8080/"
        },
        "id": "Jl9Qy8XFKnOd",
        "outputId": "8ea7c612-1a77-4ac1-f3fd-cd3db952250f"
      },
      "execution_count": 33,
      "outputs": [
        {
          "output_type": "stream",
          "name": "stdout",
          "text": [
            "Epoch 1/10, Loss: 1.1506\n",
            "Epoch 2/10, Loss: 0.4654\n",
            "Epoch 3/10, Loss: 0.3479\n",
            "Epoch 4/10, Loss: 0.2871\n",
            "Epoch 5/10, Loss: 0.2435\n",
            "Epoch 6/10, Loss: 0.2184\n",
            "Epoch 7/10, Loss: 0.1936\n",
            "Epoch 8/10, Loss: 0.1738\n",
            "Epoch 9/10, Loss: 0.1580\n",
            "Epoch 10/10, Loss: 0.1492\n"
          ]
        }
      ]
    },
    {
      "cell_type": "markdown",
      "source": [
        "Spremanje modela"
      ],
      "metadata": {
        "id": "ELlVY6edLF-1"
      }
    },
    {
      "cell_type": "code",
      "source": [
        "model_path = '/content/drive/MyDrive/train/audio_cnn.pt'\n",
        "torch.save(model.state_dict(), model_path)\n",
        "print(f\"Model saved to {model_path}\")"
      ],
      "metadata": {
        "colab": {
          "base_uri": "https://localhost:8080/"
        },
        "id": "NDE9iTm3LJP4",
        "outputId": "1864dc39-9378-457a-f894-b260de732bf8"
      },
      "execution_count": 34,
      "outputs": [
        {
          "output_type": "stream",
          "name": "stdout",
          "text": [
            "Model saved to /content/drive/MyDrive/train/audio_cnn.pt\n"
          ]
        }
      ]
    },
    {
      "cell_type": "markdown",
      "source": [
        "Evaluacija modela"
      ],
      "metadata": {
        "id": "1PPNC_C1Lu9m"
      }
    },
    {
      "cell_type": "code",
      "source": [
        "from sklearn.metrics import accuracy_score, confusion_matrix, ConfusionMatrixDisplay\n",
        "import matplotlib.pyplot as plt\n",
        "import seaborn as sns"
      ],
      "metadata": {
        "id": "yqutq0kRLwJk"
      },
      "execution_count": 35,
      "outputs": []
    },
    {
      "cell_type": "code",
      "source": [
        "# Broj klasa\n",
        "num_classes = 30\n",
        "\n",
        "# Učitaj model\n",
        "model = AudioCNN(num_classes)\n",
        "model.load_state_dict(torch.load('/content/drive/MyDrive/train/audio_cnn.pt'))\n",
        "device = torch.device(\"cuda\" if torch.cuda.is_available() else \"cpu\")\n",
        "model.to(device)\n",
        "model.eval()\n"
      ],
      "metadata": {
        "colab": {
          "base_uri": "https://localhost:8080/"
        },
        "id": "qlbCWI9mLzqF",
        "outputId": "3b11efda-d1f7-4bcd-f1b8-9fd9b2338495"
      },
      "execution_count": 37,
      "outputs": [
        {
          "output_type": "execute_result",
          "data": {
            "text/plain": [
              "AudioCNN(\n",
              "  (conv1): Conv2d(1, 16, kernel_size=(3, 3), stride=(1, 1), padding=(1, 1))\n",
              "  (conv2): Conv2d(16, 32, kernel_size=(3, 3), stride=(1, 1), padding=(1, 1))\n",
              "  (conv3): Conv2d(32, 64, kernel_size=(3, 3), stride=(1, 1), padding=(1, 1))\n",
              "  (pool): MaxPool2d(kernel_size=2, stride=2, padding=0, dilation=1, ceil_mode=False)\n",
              "  (dropout): Dropout(p=0.3, inplace=False)\n",
              "  (skip1): Conv2d(16, 32, kernel_size=(1, 1), stride=(1, 1))\n",
              "  (skip2): Conv2d(32, 64, kernel_size=(1, 1), stride=(1, 1))\n",
              "  (fc1): Linear(in_features=2048, out_features=128, bias=True)\n",
              "  (fc2): Linear(in_features=128, out_features=30, bias=True)\n",
              ")"
            ]
          },
          "metadata": {},
          "execution_count": 37
        }
      ]
    },
    {
      "cell_type": "code",
      "source": [
        "# Učitavanje test dataseta\n",
        "test_dataset = AudioDataset('/content/drive/MyDrive/train/data_labels.csv')\n",
        "test_loader = torch.utils.data.DataLoader(test_dataset, batch_size=32)\n"
      ],
      "metadata": {
        "id": "3paJCYUlL63Z"
      },
      "execution_count": 43,
      "outputs": []
    },
    {
      "cell_type": "code",
      "source": [
        "all_preds = []\n",
        "all_labels = []\n",
        "\n",
        "with torch.no_grad():\n",
        "    for inputs, labels in test_loader:\n",
        "        inputs, labels = inputs.to(device), labels.to(device)\n",
        "        outputs = model(inputs)\n",
        "        preds = torch.argmax(outputs, dim=1)\n",
        "        all_preds.extend(preds.cpu().numpy())\n",
        "        all_labels.extend(labels.cpu().numpy())\n",
        "\n",
        "# Tačnost\n",
        "accuracy = accuracy_score(all_labels, all_preds)\n",
        "print(f\"Test Accuracy: {accuracy:.4f}\")\n"
      ],
      "metadata": {
        "colab": {
          "base_uri": "https://localhost:8080/"
        },
        "id": "7REfY0KUMBgh",
        "outputId": "c6188797-ad4e-47f9-c2c7-597b239c876a"
      },
      "execution_count": 44,
      "outputs": [
        {
          "output_type": "stream",
          "name": "stdout",
          "text": [
            "Test Accuracy: 0.9819\n"
          ]
        }
      ]
    },
    {
      "cell_type": "code",
      "source": [
        "# Nazivi klasa\n",
        "df_labels = pd.read_csv('/content/drive/MyDrive/train/data_labels.csv')\n",
        "id2label = {v: k for k, v in df_labels.set_index('LabelID')['Filename'].str.extract(r'/(\\w+)/')[0].dropna().astype(str).drop_duplicates().reset_index(drop=True).to_dict().items()}\n",
        "\n",
        "# Confusion Matrix\n",
        "cm = confusion_matrix(all_labels, all_preds)\n",
        "plt.figure(figsize=(12, 10))\n",
        "sns.heatmap(cm, annot=True, fmt=\"d\", cmap=\"Blues\", xticklabels=id2label.values(), yticklabels=id2label.values())\n",
        "plt.xlabel(\"Predicted\")\n",
        "plt.ylabel(\"True\")\n",
        "plt.title(\"Confusion Matrix\")\n",
        "plt.show()\n"
      ],
      "metadata": {
        "colab": {
          "base_uri": "https://localhost:8080/",
          "height": 872
        },
        "id": "9bcvdUo0MEYj",
        "outputId": "01deeb8a-8555-47cb-9699-351e19813b1e"
      },
      "execution_count": 45,
      "outputs": [
        {
          "output_type": "display_data",
          "data": {
            "text/plain": [
              "<Figure size 1200x1000 with 2 Axes>"
            ],
            "image/png": "[encoded data removed]"
          },
          "metadata": {}
        }
      ]
    },
    {
      "cell_type": "code",
      "source": [
        "torch.save(model.state_dict(), 'audio_cnn_model.pth')\n"
      ],
      "metadata": {
        "id": "qmCYDBBK1Zsv"
      },
      "execution_count": 46,
      "outputs": []
    }
  ]
}