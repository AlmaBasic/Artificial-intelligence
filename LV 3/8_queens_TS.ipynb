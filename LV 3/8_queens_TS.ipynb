{
 "cells": [
  {
   "cell_type": "markdown",
   "id": "128c8a62-16f5-4d14-9c42-a8500df5617c",
   "metadata": {},
   "source": [
    "Tabu pretrazivanje"
   ]
  },
  {
   "cell_type": "code",
   "execution_count": 1,
   "id": "b218ee57-93dc-427f-b45c-e0c48610b2d1",
   "metadata": {},
   "outputs": [],
   "source": [
    "import random\n",
    "import numpy as np\n",
    "import chess\n",
    "import chess.svg"
   ]
  },
  {
   "cell_type": "code",
   "execution_count": 2,
   "id": "79ee47bd-a6ad-4a7f-9bb4-c4ce5a4a8e1f",
   "metadata": {},
   "outputs": [],
   "source": [
    "class TabuSearch:\n",
    "    def __init__(self, n, max_iterations, tabu_size):\n",
    "        self.n = n  # broj kraljica\n",
    "        self.max_iterations = max_iterations  # maksimalan broj iteracija\n",
    "        self.tabu_size = tabu_size  # duzin tabu liste\n",
    "        self.tabu_list = []\n",
    "        self.solution = []\n",
    "        self.min_conflicts = float('inf')\n",
    "        \n",
    "    def initial_solution(self):\n",
    "        return [random.randint(0, self.n - 1) for _ in range(self.n)]\n",
    "    \n",
    "    def conflicts(self, state):\n",
    "        conflicts = 0\n",
    "        for i in range(self.n):\n",
    "            for j in range(i + 1, self.n):\n",
    "                if state[i] == state[j] or abs(state[i] - state[j]) == j - i:\n",
    "                    conflicts += 1\n",
    "        return conflicts\n",
    "    \n",
    "    def generate_neighbors(self, state):\n",
    "        neighbors = []\n",
    "        for col in range(self.n):\n",
    "            for row in range(self.n):\n",
    "                if state[col] != row:\n",
    "                    neighbor = list(state)\n",
    "                    neighbor[col] = row\n",
    "                    neighbors.append(neighbor)\n",
    "        return neighbors\n",
    "    \n",
    "    def tabu_search(self):\n",
    "        current_solution = self.initial_solution()\n",
    "        current_conflicts = self.conflicts(current_solution)\n",
    "        iteration = 0\n",
    "        \n",
    "        while iteration < self.max_iterations and current_conflicts > 0:\n",
    "            best_neighbor = None\n",
    "            best_neighbor_conflicts = float('inf')\n",
    "            \n",
    "            # Generisanje susjeda i odabir najboljeg\n",
    "            for neighbor in self.generate_neighbors(current_solution):\n",
    "                neighbor_conflicts = self.conflicts(neighbor)\n",
    "                if neighbor_conflicts < best_neighbor_conflicts and neighbor not in self.tabu_list:\n",
    "                    best_neighbor = neighbor\n",
    "                    best_neighbor_conflicts = neighbor_conflicts\n",
    "            \n",
    "            current_solution = best_neighbor\n",
    "            current_conflicts = best_neighbor_conflicts\n",
    "            \n",
    "            # Update tabu liste\n",
    "            self.tabu_list.append(best_neighbor)\n",
    "            if len(self.tabu_list) > self.tabu_size:\n",
    "                self.tabu_list.pop(0)\n",
    "            \n",
    "            iteration += 1\n",
    "            \n",
    "            if current_conflicts < self.min_conflicts:\n",
    "                self.min_conflicts = current_conflicts\n",
    "                self.solution = current_solution[:]\n",
    "            \n",
    "            print(f\"Iteration {iteration}: conflicts = {current_conflicts}\")\n",
    "        \n",
    "        print(\"Solution:\", self.solution)\n",
    "        print(\"Minimum conflicts:\", self.min_conflicts)"
   ]
  },
  {
   "cell_type": "code",
   "execution_count": 3,
   "id": "799f6e07-ee55-4aee-8e3d-e1b545d0c3cf",
   "metadata": {},
   "outputs": [
    {
     "name": "stdout",
     "output_type": "stream",
     "text": [
      "Iteration 1: conflicts = 5\n",
      "Iteration 2: conflicts = 3\n",
      "Iteration 3: conflicts = 2\n",
      "Iteration 4: conflicts = 1\n",
      "Iteration 5: conflicts = 1\n",
      "Iteration 6: conflicts = 1\n",
      "Iteration 7: conflicts = 1\n",
      "Iteration 8: conflicts = 1\n",
      "Iteration 9: conflicts = 0\n",
      "Solution: [5, 2, 0, 6, 4, 7, 1, 3]\n",
      "Minimum conflicts: 0\n"
     ]
    }
   ],
   "source": [
    "n_queens = 8\n",
    "max_iterations = 1000\n",
    "tabu_size = 10\n",
    "tabu_search = TabuSearch(n_queens, max_iterations, tabu_size)\n",
    "tabu_search.tabu_search()"
   ]
  },
  {
   "cell_type": "code",
   "execution_count": 4,
   "id": "142285e1-56ec-4621-80d3-4c03ffec511f",
   "metadata": {},
   "outputs": [],
   "source": [
    "board = chess.Board()\n",
    "board.clear_board()\n",
    "i = 0\n",
    "for s in tabu_search.solution:\n",
    "    square = chess.square(i, s)\n",
    "    i += 1\n",
    "    board.set_piece_at(square, chess.Piece(chess.QUEEN, chess.WHITE))\n",
    "    svg_board = chess.svg.board(board=board, size=640)\n",
    "# Save image\n",
    "with open('image.svg', 'w') as f:\n",
    "    f.write(svg_board)"
   ]
  }
 ],
 "metadata": {
  "kernelspec": {
   "display_name": "Python 3 (ipykernel)",
   "language": "python",
   "name": "python3"
  },
  "language_info": {
   "codemirror_mode": {
    "name": "ipython",
    "version": 3
   },
   "file_extension": ".py",
   "mimetype": "text/x-python",
   "name": "python",
   "nbconvert_exporter": "python",
   "pygments_lexer": "ipython3",
   "version": "3.11.7"
  }
 },
 "nbformat": 4,
 "nbformat_minor": 5
}
